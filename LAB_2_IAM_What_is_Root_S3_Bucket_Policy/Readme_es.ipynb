{
 "cells": [
  {
   "cell_type": "markdown",
   "metadata": {},
   "source": [
    "# Reglas de Acceso desde dentro y fuera de una cuenta. Que es Root?"
   ]
  },
  {
   "cell_type": "markdown",
   "metadata": {},
   "source": [
    "Especificamente, que significa lo siguiente, cuando se utiliza como Principal en una politica de recurso de IAM?"
   ]
  },
  {
   "cell_type": "markdown",
   "metadata": {},
   "source": [
    "\"Principal\": {\"AWS\": [\"arn:aws:iam::111122223333:root]}"
   ]
  },
  {
   "cell_type": "markdown",
   "metadata": {},
   "source": [
    "## Introduccion\n",
    "\n",
    "Este lab examina la diferencia entre las politicas de IAM y las basadas en recursos de AWS. Especificamente, queremos entender\n",
    "la logica de evaluacion de politicas para los baldes de S3 que permiten el acceso entre cuentas. Para un recordatorio de lo basico de IAM, ver\n",
    "[Logica de Evaluacion de Politicas de Referencia](https://docs.aws.amazon.com/IAM/latest/UserGuide/reference_policies_evaluation-logic.html),\n",
    "lo cual es valido para cuando el Principal de IAM y el recurso de S3 estan en la misma cuenta de AWS.\n",
    " \n",
    "Para resumir, si una accion esta permitida por una politica basada en identidad, una politica basada en un recurso, o ambas,\n",
    "entonces AWS permite la accion. Un \"Deny\" explicito en cualquiera de estas politicas sobreescribe ese permiso.\n",
    "\n",
    "La situacion cambia para el [accesso entre cuentas](https://aws.amazon.com/premiumsupport/knowledge-center/cross-account-access-s3/).\n",
    "En este caso, el acceso tiene que ser explicitamente permitido tanto en la politica de acceso del Principal como en la politica del recurso.\n",
    "Desafortunadamente, el link no menciona el \"problema del diputado confundido\" para el acceso entre cuentas, el cual ocurre cuando la cuenta\n",
    "confiada es un vendedor tercero de SaaS (Software como un Servicio, en ingles). Como resultado de esto, muchos vendedores que operan en\n",
    "baldes de S3 de sus clientes, lo hacen inseguramente\n",
    "\n",
    "\n",
    "Para este lab, asumiremos que ambas cuentas de AWS son de la misma entidad y dejaremos los problemas de diputado\n",
    "confundido para el Lab 4 - Acceso Directo vs Asumir Rol: Otorgar acceso entre cuentas a recursos."
   ]
  },
  {
   "cell_type": "markdown",
   "metadata": {},
   "source": [
    "<img src=\"s3-cross-account.png\" class=\"left\"/>"
   ]
  },
  {
   "cell_type": "markdown",
   "metadata": {},
   "source": [
    "Otorgar permisos al Principal-A para acceder al Recurso-B, cuando ambos estan en la misma cuenta, puede hacerse asignando una politica de permisos a dicho Principal. Alternativamente, el acceso entre cuentas se podria otorgar en una politica de recurso tal como la siguiente politica de balde."
   ]
  },
  {
   "cell_type": "raw",
   "metadata": {},
   "source": [
    "# demo_policy.json\n",
    "{\n",
    "  \"Version\":\"2012-10-17\",\n",
    "  \"Statement\":[\n",
    "    {\n",
    "      \"Sid\":\"AddCrossAccountPutPolicy\",\n",
    "      \"Effect\":\"Allow\",\n",
    "      \"Principal\": {\"AWS\": [\"arn:aws:iam::444455556666:root\"]},\n",
    "      \"Action\":[\"s3:PutObject\",\"s3:GetObject\",\"s3:ListBucket\"],\n",
    "      \"Resource\":[\"arn:aws:s3:::mybucket/*\", \"arn:aws:s3:::mybucket\"],\n",
    "        \"Condition\": {\n",
    "          \"IpAddress\": {\n",
    "            \"aws:SourceIp\": [\n",
    "              \"54.240.143.0/24\",\n",
    "              \"54.240.144.0/24\"\n",
    "            ]\n",
    "          }\n",
    "        }\n",
    "      }\n",
    "    ]\n",
    "}"
   ]
  },
  {
   "cell_type": "markdown",
   "metadata": {},
   "source": [
    "Los recursos para este lab son dos baldes de S3, a los que nos referiremos como mybucket1 y mybucket2 (en realidad son mybucket-$random).\n",
    "Todos los roles mostrados a continuacion tendran la misma politica de permisos que les permitira acceder a recursos genericos de S3"
   ]
  },
  {
   "cell_type": "markdown",
   "metadata": {},
   "source": [
    "Este lab requiere de un Admin_A y un Admin_B, quienes pueden crear los recursos necesarios. Para nuestros propositos de instruccion, crearemos los recursos a medida que los necesitamos. Si se esta utilizando esto para estudiantes, el administrador puede correr setupA.sh y setupB.sh."
   ]
  },
  {
   "cell_type": "code",
   "execution_count": null,
   "metadata": {},
   "outputs": [],
   "source": [
    "import json"
   ]
  },
  {
   "cell_type": "code",
   "execution_count": null,
   "metadata": {},
   "outputs": [],
   "source": [
    "%%bash --out bash_output\n",
    "echo $RANDOM"
   ]
  },
  {
   "cell_type": "code",
   "execution_count": null,
   "metadata": {},
   "outputs": [],
   "source": [
    "rand = str(bash_output.strip())\n",
    "rand"
   ]
  },
  {
   "cell_type": "code",
   "execution_count": null,
   "metadata": {},
   "outputs": [],
   "source": [
    "rand = str(123)"
   ]
  },
  {
   "cell_type": "markdown",
   "metadata": {},
   "source": [
    "Para este lab, se necesitan credenciales de administrador en dos cuentas de AWS (A y B), con sus respectivos bloques en ~/.aws/credentials. Algo como:\n",
    "```\n",
    "[perfilA]\n",
    "aws_access_key_id=AKIA**********\n",
    "aws_secret_access_key=xxxxxxxxxxxxxxxx\n",
    "\n",
    "[perfilB]\n",
    "aws_access_key_id=AKIA**********\n",
    "aws_secret_access_key=xxxxxxxxxxxxxxxx\n",
    "```\n",
    "\n",
    "Rellena los valores que quieres usar para perfilA y perfilB debajo. Deben ser los mismos que en tu archivo ~/.aws/credentials."
   ]
  },
  {
   "cell_type": "code",
   "execution_count": null,
   "metadata": {},
   "outputs": [],
   "source": [
    "perfilA = \"chinoAdmin\"\n",
    "perfilB = \"chino\"\n",
    "mybucket1 = \"mybucket1-\" + rand\n",
    "mybucket2 = \"mybucket2-\" + rand\n",
    "path = \"/aws-labs/\" \n",
    "#path actua como un prefijo para los roles y politicas de IAM. \n",
    "#Puede ser usado como etiqueta para listar nuestros bienes."
   ]
  },
  {
   "cell_type": "code",
   "execution_count": null,
   "metadata": {},
   "outputs": [],
   "source": [
    "!aws --profile $perfilA sts get-caller-identity"
   ]
  },
  {
   "cell_type": "code",
   "execution_count": null,
   "metadata": {},
   "outputs": [],
   "source": [
    "!aws --profile $perfilB sts get-caller-identity"
   ]
  },
  {
   "cell_type": "markdown",
   "metadata": {},
   "source": [
    "Usar los ARN de las dos llamadas anteriores para rellenar debajo"
   ]
  },
  {
   "cell_type": "code",
   "execution_count": null,
   "metadata": {},
   "outputs": [],
   "source": [
    "principalA_arn = \"Aqui\"\n",
    "principalB_arn = \"Y aqui\"\n",
    "accountA = principalA_arn.split(':')[4]\n",
    "accountB = principalB_arn.split(':')[4]\n",
    "accountB"
   ]
  },
  {
   "cell_type": "markdown",
   "metadata": {},
   "source": [
    "Eso funciona. Sin embargo..."
   ]
  },
  {
   "cell_type": "code",
   "execution_count": null,
   "metadata": {},
   "outputs": [],
   "source": [
    "%%bash\n",
    "aws --profile \"${perfilA}\" sts get-caller-identity\n",
    "aws --profile \"${perfilB}\" sts get-caller-identity\n",
    "# Lo siguiente evalua $perfilA (o B) como null\n",
    "# aws --profile $perfilA sts get-caller-identity\n",
    "# aws --profile $perfilB sts get-caller-identity"
   ]
  },
  {
   "cell_type": "markdown",
   "metadata": {},
   "source": [
    "Como puedes ver arriba, debemos ir con cuidado, ya que la magia de celda \"bash\" puede no funcionar como esperamos. La salida de la celda anterior deberia corresponder a los dos perfiles, pero no lo hace. La moraleja es, no intentar cosas muy elaboradas con bash en jupyter."
   ]
  },
  {
   "cell_type": "markdown",
   "metadata": {},
   "source": [
    "## Setup para Administrador"
   ]
  },
  {
   "cell_type": "markdown",
   "metadata": {},
   "source": [
    "Crear los 4 roles para el lab"
   ]
  },
  {
   "cell_type": "code",
   "execution_count": null,
   "metadata": {},
   "outputs": [],
   "source": [
    "rolA1 = \"rolA1-\" + rand\n",
    "rolA2 = \"rolA2-\" + rand\n",
    "rolB1 = \"rolB1-\" + rand\n",
    "rolB2 = \"rolB2-\" + rand"
   ]
  },
  {
   "cell_type": "markdown",
   "metadata": {},
   "source": [
    "Crear ambas politicas \"assume\", utilizadas para asumir el rol"
   ]
  },
  {
   "cell_type": "code",
   "execution_count": null,
   "metadata": {},
   "outputs": [],
   "source": [
    "# assume_A_policy.json\n",
    "assume_A_policy = {\n",
    "  \"Version\": \"2012-10-17\",\n",
    "  \"Statement\": \n",
    "    {\n",
    "      \"Sid\": \"AssumeRolePolicyForS3ReaderRoleByExternal\",\n",
    "      \"Effect\": \"Allow\",\n",
    "      \"Principal\": {\"AWS\": principalA_arn},\n",
    "      \"Action\": \"sts:AssumeRole\"\n",
    "    }\n",
    "}"
   ]
  },
  {
   "cell_type": "code",
   "execution_count": null,
   "metadata": {},
   "outputs": [],
   "source": [
    "# assume_B_policy.json\n",
    "assume_B_policy = {\n",
    "    \"Version\": \"2012-10-17\",\n",
    "    \"Statement\": {\n",
    "        \"Sid\": \"AssumeRolePolicyB\",\n",
    "        \"Effect\": \"Allow\",\n",
    "        \"Principal\": { \"AWS\": principalB_arn },\n",
    "        \"Action\": \"sts:AssumeRole\"\n",
    "    }\n",
    "}"
   ]
  },
  {
   "cell_type": "code",
   "execution_count": null,
   "metadata": {},
   "outputs": [],
   "source": [
    "assume_A_policy_str = \"'\" + json.dumps(assume_A_policy) + \"'\"\n",
    "assume_B_policy_str = \"'\" + json.dumps(assume_B_policy) + \"'\""
   ]
  },
  {
   "cell_type": "markdown",
   "metadata": {},
   "source": [
    "Crear los roles dentro de las cuentas"
   ]
  },
  {
   "cell_type": "code",
   "execution_count": null,
   "metadata": {},
   "outputs": [],
   "source": [
    "!aws --profile $perfilA iam create-role --role-name $rolA1 \\\n",
    "                                        --path $path \\\n",
    "                                        --assume-role-policy-document $assume_A_policy_str"
   ]
  },
  {
   "cell_type": "code",
   "execution_count": null,
   "metadata": {},
   "outputs": [],
   "source": [
    "!aws --profile $perfilA iam create-role --role-name $rolA2 \\\n",
    "                                        --path $path \\\n",
    "                                        --assume-role-policy-document $assume_A_policy_str"
   ]
  },
  {
   "cell_type": "code",
   "execution_count": null,
   "metadata": {},
   "outputs": [],
   "source": [
    "!aws --profile $perfilB iam create-role --role-name $rolB1 \\\n",
    "                                        --path $path \\\n",
    "                                        --assume-role-policy-document $assume_A_policy_str"
   ]
  },
  {
   "cell_type": "code",
   "execution_count": null,
   "metadata": {},
   "outputs": [],
   "source": [
    "!aws --profile $perfilB iam create-role --role-name $rolB2 \\\n",
    "                                        --path $path \\\n",
    "                                        --assume-role-policy-document $assume_A_policy_str"
   ]
  },
  {
   "cell_type": "markdown",
   "metadata": {},
   "source": [
    "Crear los baldes para el lab. Notar que, a diferencia de los recursos creados de IAM, el ARN del balde no incluye el ID de cuenta."
   ]
  },
  {
   "cell_type": "code",
   "execution_count": null,
   "metadata": {},
   "outputs": [],
   "source": [
    "!aws --profile $perfilA s3api create-bucket --bucket $mybucket1\n",
    "!aws --profile $perfilA s3api create-bucket --bucket $mybucket2 \\\n",
    "                --create-bucket-configuration LocationConstraint=us-west-1"
   ]
  },
  {
   "cell_type": "markdown",
   "metadata": {},
   "source": [
    "Copiar algunos archivos de demonstracion dentro de cada balde"
   ]
  },
  {
   "cell_type": "code",
   "execution_count": null,
   "metadata": {},
   "outputs": [],
   "source": [
    "!aws --profile $perfilA s3 cp demo-vars.sh s3://$mybucket1/\n",
    "!aws --profile $perfilA s3 cp assume_A_policy.json s3://$mybucket2/"
   ]
  },
  {
   "cell_type": "markdown",
   "metadata": {},
   "source": [
    "Chequear que los archivos hayan sido copiados exitosamente, solo por si acaso"
   ]
  },
  {
   "cell_type": "code",
   "execution_count": null,
   "metadata": {},
   "outputs": [],
   "source": [
    "!aws --profile $perfilA s3 ls s3://$mybucket1\n",
    "!aws --profile $perfilA s3 ls s3://$mybucket2"
   ]
  },
  {
   "cell_type": "markdown",
   "metadata": {},
   "source": [
    "Crear un tagset, y añadirlo a los baldes"
   ]
  },
  {
   "cell_type": "code",
   "execution_count": null,
   "metadata": {},
   "outputs": [],
   "source": [
    "tagset = 'TagSet=[{Key=path,Value=' + path + '},{Key=rand,Value=' + rand + '}]'\n",
    "tagset"
   ]
  },
  {
   "cell_type": "code",
   "execution_count": null,
   "metadata": {},
   "outputs": [],
   "source": [
    "!aws --profile $profileA s3api put-bucket-tagging --bucket $mybucket1 \\\n",
    "                --tagging $tagset\n",
    "!aws --profile $profileA s3api put-bucket-tagging --bucket $mybucket2 \\\n",
    "                --tagging $tagset"
   ]
  },
  {
   "cell_type": "markdown",
   "metadata": {},
   "source": [
    "Hemos escrito una funcion llamada awsas, que esta dentro del script aws_run_as.sh en la repo. Puede ser llamado de la siguiente manera:\n",
    "\n",
    "awsas --profile perfil rol [comandos de aws]\n",
    "\n",
    "Esto utiliza las credenciales en \"perfil\" para assumir \"rol\" y luego correr comandos. Sin esta funcion, deberia utilizarse \"sts assume-role\", y luego utilizar la salida de eso para crear un perfil nuevo en nuestro archivo ~/.aws/credentials cada vez que quisieramos hacer algo, como descrito [aqui](https://docs.aws.amazon.com/cli/latest/userguide/cli-configure-role.html). Este script es muy reciente y esta aun en beta, por lo que si algo no funciona, intentarlo en una shell de bash.\n",
    "\n",
    "Probemoslo!"
   ]
  },
  {
   "cell_type": "code",
   "execution_count": null,
   "metadata": {},
   "outputs": [],
   "source": [
    "!awsas --profile $perfilA $rolA1 sts get-caller-identity"
   ]
  },
  {
   "cell_type": "markdown",
   "metadata": {},
   "source": [
    "Esto deberia retornar un rol asumido con el nombre rolA1-$rand, la cuenta en la que se encuentra, y su ARN. Si no lo hace, checkear credenciales y privilegios."
   ]
  },
  {
   "cell_type": "markdown",
   "metadata": {},
   "source": [
    "### Setup de la politica administrada"
   ]
  },
  {
   "cell_type": "markdown",
   "metadata": {},
   "source": [
    "Definir una funcion para formatear todo correctamente"
   ]
  },
  {
   "cell_type": "code",
   "execution_count": null,
   "metadata": {},
   "outputs": [],
   "source": [
    "def jdump(data, filename):\n",
    "    with open(filename, 'w') as f:\n",
    "        json.dump(data, f, sort_keys=True, indent=4 * ' ')"
   ]
  },
  {
   "cell_type": "markdown",
   "metadata": {},
   "source": [
    "Crear la politica"
   ]
  },
  {
   "cell_type": "code",
   "execution_count": null,
   "metadata": {},
   "outputs": [],
   "source": [
    "# permission-policy.json\n",
    "iam_permission_policy_for_s3 = {\n",
    "  \"Version\": \"2012-10-17\",\n",
    "  \"Statement\": [\n",
    "    {\n",
    "      \"Sid\": \"PermissionPolicyForS3Access\",\n",
    "      \"Effect\": \"Allow\",\n",
    "      \"Action\":[\"s3:PutObject\",\"s3:GetObject\",\"s3:ListBucket\"],\n",
    "      \"Resource\": [\"arn:aws:s3:::{}/*\".format(mybucket1), \n",
    "                   \"arn:aws:s3:::{}\".format(mybucket1),\n",
    "                  \"arn:aws:s3:::{}/*\".format(mybucket2), \n",
    "                   \"arn:aws:s3:::{}\".format(mybucket2)]\n",
    "    }]\n",
    "}\n",
    "jdump(iam_permission_policy_for_s3 , \"iam_permission_policy_for_s3.json\")"
   ]
  },
  {
   "cell_type": "markdown",
   "metadata": {},
   "source": [
    "Ya que queremos adjuntar esta politica a multiples roles, debemos crear una politica administrada, en vez de una politica de linea, la cual esta incrustada en nuestro rol."
   ]
  },
  {
   "cell_type": "code",
   "execution_count": null,
   "metadata": {},
   "outputs": [],
   "source": [
    "!aws --profile $perfilA iam create-policy --policy-name iam_permission_policy_for_s3_$rand \\\n",
    "                                  --path \"/aws-labs/\" \\\n",
    "                                  --policy-document file://iam_permission_policy_for_s3.json"
   ]
  },
  {
   "cell_type": "markdown",
   "metadata": {},
   "source": [
    "Debemos crear la politica en ambas cuentas de AWS, por ende repetimos para B"
   ]
  },
  {
   "cell_type": "code",
   "execution_count": null,
   "metadata": {},
   "outputs": [],
   "source": [
    "!aws --profile $perfilB iam create-policy --policy-name iam_permission_policy_for_s3_$rand \\\n",
    "                                --path \"/aws-labs/\" \\\n",
    "                                --policy-document file://iam_permission_policy_for_s3.json"
   ]
  },
  {
   "cell_type": "markdown",
   "metadata": {},
   "source": [
    "# Ejercicios"
   ]
  },
  {
   "cell_type": "markdown",
   "metadata": {},
   "source": [
    "## 1. Confirmar que los roles sin permisos no pueden acceder a baldes sin politicas\n",
    "\n",
    "Hasta ahora, hemos creado los roles y las politicas. Cuando creamos un rol, debemos incluir la politica de confianza de assume-role, lo que nos dice quien puede asumir dicho rol. Pero por ahora es solo un contenedor vacio, para que nosotros rellenemos con politicas de permisos. Antes de adjuntar una politica de balde, veamos que podemos hacer con los roles asi como estan."
   ]
  },
  {
   "cell_type": "code",
   "execution_count": null,
   "metadata": {},
   "outputs": [],
   "source": [
    "!awsas --profile $perfilA $rolA1 s3 ls $mybucket1"
   ]
  },
  {
   "cell_type": "markdown",
   "metadata": {},
   "source": [
    "No mucho, verdad? Veamos que podemos hacer a continuacion"
   ]
  },
  {
   "cell_type": "markdown",
   "metadata": {},
   "source": [
    "## 2. Chequear que un rol sin permisos puede acceder a un balde con la politica correcta"
   ]
  },
  {
   "cell_type": "markdown",
   "metadata": {},
   "source": [
    "Creamos la politica"
   ]
  },
  {
   "cell_type": "code",
   "execution_count": null,
   "metadata": {},
   "outputs": [],
   "source": [
    "# mybucket1_policy.json\n",
    "mybucket1_policy = {\n",
    "  \"Version\": \"2012-10-17\",\n",
    "  \"Statement\": [{\n",
    "      \"Sid\": \"AssumeRolePolicyForS3ReaderRoleB\",\n",
    "      \"Effect\": \"Allow\",\n",
    "      \"Principal\": {\"AWS\": [\"arn:aws:iam::{}:root\".format(accountA), \n",
    "                            \"arn:aws:iam::{}:role/aws-labs/{}\".format(accountA, roleA2)]},\n",
    "      \"Action\": [\"s3:PutObject\",\"s3:GetObject\",\"s3:ListBucket\"],\n",
    "      \"Resource\": [\"arn:aws:s3:::{}/*\".format(mybucket1), \n",
    "                   \"arn:aws:s3:::{}\".format(mybucket1)]\n",
    "\n",
    "    }]\n",
    "}\n",
    "jdump(mybucket1_policy , \"mybucket1_policy.json\")\n",
    "mybucket1_policy_str = \"'\"+json.dumps(mybucket1_policy).replace(' ', '')+\"'\""
   ]
  },
  {
   "cell_type": "markdown",
   "metadata": {},
   "source": [
    "Genial, ahora adjuntemos esta politica de permisos a mybucket1. Notar que aun no tenemos politicas de permisos adjuntas en ningun rol."
   ]
  },
  {
   "cell_type": "code",
   "execution_count": null,
   "metadata": {},
   "outputs": [],
   "source": [
    "!aws --profile $perfilA s3api put-bucket-policy --bucket $mybucket1 --policy $mybucket1_policy_str"
   ]
  },
  {
   "cell_type": "markdown",
   "metadata": {},
   "source": [
    "Probar si rolA1 puede acceder"
   ]
  },
  {
   "cell_type": "code",
   "execution_count": null,
   "metadata": {},
   "outputs": [],
   "source": [
    "!awsas --profile $perfilA $rolA1 s3 ls s3://$mybucket1"
   ]
  },
  {
   "cell_type": "markdown",
   "metadata": {},
   "source": [
    "Esperado:\n",
    "\n",
    "An error occurred (AccessDenied) when calling the ListObjects operation: Access Denied\n",
    "\n",
    "Aqui puede verse que se nos niega el acceso"
   ]
  },
  {
   "cell_type": "markdown",
   "metadata": {},
   "source": [
    "Probemos lo mismo con el rolA2, que esta explicitamente permitido en la politica de balde, aunque el rolA2 no tiene una politica de permisos adjunta aun."
   ]
  },
  {
   "cell_type": "code",
   "execution_count": null,
   "metadata": {},
   "outputs": [],
   "source": [
    "!awsas --profile $perfilA $rolA2 s3 ls s3://$mybucket1"
   ]
  },
  {
   "cell_type": "markdown",
   "metadata": {},
   "source": [
    "La marca temporal no importa, solo el nombre del archivo que demuestra que nuestro comando funciono."
   ]
  },
  {
   "cell_type": "markdown",
   "metadata": {},
   "source": [
    "### Conclusion"
   ]
  },
  {
   "cell_type": "markdown",
   "metadata": {},
   "source": [
    "Permitir \"root\" en una politica de S3 no otorga acceso a todos en la cuenta. Sin embargo, permitir explicitamente a un rol en la politica de S3 permite el acceso incluso si el rol no tiene permisos adjuntos. Esto es a lo que nos referimos cuando decimos que \"Si el Principal y el Recurso estan en la misma cuenta, entonces el permiso es la union de las politicas adjuntas al Principal y al Recurso\"."
   ]
  },
  {
   "cell_type": "markdown",
   "metadata": {},
   "source": [
    "## 3. Puede un rol con permisos acceder a un balde sin politica de balde?"
   ]
  },
  {
   "cell_type": "markdown",
   "metadata": {},
   "source": [
    "Ahora, adjuntemos la politica iam_permission_policy_for_s3 al rolA1. Para esto, necesitamos el ARN de la politica. Este se encuentra en nuestras variables fuente, pero podemos obtenerlo de la siguiente manera:"
   ]
  },
  {
   "cell_type": "code",
   "execution_count": null,
   "metadata": {},
   "outputs": [],
   "source": [
    "!aws --profile $perfilA iam list-policies --path-prefix /aws-labs/ | jq -r '.Policies[].Arn'"
   ]
  },
  {
   "cell_type": "markdown",
   "metadata": {},
   "source": [
    "Y luego pegado a continuacion:"
   ]
  },
  {
   "cell_type": "code",
   "execution_count": null,
   "metadata": {},
   "outputs": [],
   "source": [
    "iam_permission_policy_for_s3_arn = \"El ARN va aqui\""
   ]
  },
  {
   "cell_type": "markdown",
   "metadata": {},
   "source": [
    "Adjuntar la politica al rol"
   ]
  },
  {
   "cell_type": "code",
   "execution_count": null,
   "metadata": {},
   "outputs": [],
   "source": [
    "!aws --profile $pefilA iam attach-role-policy --role-name $rolA1 --policy-arn $iam_permission_policy_for_s3_arn"
   ]
  },
  {
   "cell_type": "markdown",
   "metadata": {},
   "source": [
    "Ahora, verifiquemos que el rolA1 puede acceder a mybucket1"
   ]
  },
  {
   "cell_type": "code",
   "execution_count": null,
   "metadata": {},
   "outputs": [],
   "source": [
    "!awsas --profile $perfilA $rolA1 s3 ls s3://$mybucket1"
   ]
  },
  {
   "cell_type": "markdown",
   "metadata": {},
   "source": [
    "Esperar algo como\n",
    "\n",
    "2020-05-03 13:57:39 185 demo-vars.sh\n",
    "\n",
    "Nuevamente, la marca temporal no importa, solo el nombre del archivo, que demuestra que el balde es accesible."
   ]
  },
  {
   "cell_type": "markdown",
   "metadata": {},
   "source": [
    "Ahora probemos que el rolA1, que tiene una politica de permisos de IAM que le permite trabajar con mybucket1 y mybucket2, no requiere que este ultimo tenga una politica de balde permitiendole hacer eso. Para hacerlo, simplemente intentamos listar los contenidos de mybucket2."
   ]
  },
  {
   "cell_type": "code",
   "execution_count": null,
   "metadata": {},
   "outputs": [],
   "source": [
    "!awsas --profile $perfilA $rolA1 s3 ls s3://$mybucket2"
   ]
  },
  {
   "cell_type": "markdown",
   "metadata": {},
   "source": [
    "Esperar algo asi\n",
    "\n",
    "2020-05-07 13:12:38 227 assume_A_policy.json"
   ]
  },
  {
   "cell_type": "markdown",
   "metadata": {},
   "source": [
    "### Conclusion\n",
    "\n",
    "Confirmamos que una politica de IAM adjunta a un rol es todo lo que se requiere para acceder a un balde, afirmando aun mas la regla de \"Union dentro de una cuenta\"."
   ]
  },
  {
   "cell_type": "markdown",
   "metadata": {},
   "source": [
    "## 4. Puede el rolB1 con permiso explicito en una politica de IAM acceder a mybucket1 en nuestra cuenta_A?"
   ]
  },
  {
   "cell_type": "markdown",
   "metadata": {},
   "source": [
    "Ahora, queremos comprobar si podemos acceder a mybucket1 en accountA, introduciendo una politica de rol especifica que nos permita hacer justo eso.\n",
    "\n",
    "Primero, recordemos la politica actual de mybucket1"
   ]
  },
  {
   "cell_type": "code",
   "execution_count": null,
   "metadata": {},
   "outputs": [],
   "source": [
    "mybucket1_policy"
   ]
  },
  {
   "cell_type": "markdown",
   "metadata": {},
   "source": [
    "Como dice, solo otorga acceso a accountA y a rolA2 a nuestro balde"
   ]
  },
  {
   "cell_type": "markdown",
   "metadata": {},
   "source": [
    "Ahora, adjuntemos nuestra politica iam_permission_policy_for_s3 al rolB1. Para eso, necesitamos su ARN, el cual podemos obtener de la siguiente manera:"
   ]
  },
  {
   "cell_type": "code",
   "execution_count": null,
   "metadata": {},
   "outputs": [],
   "source": [
    "!aws --profile $perfilB iam list-policies --path-prefix /aws-labs/ | jq -r '.Policies[].Arn'"
   ]
  },
  {
   "cell_type": "markdown",
   "metadata": {},
   "source": [
    "Luego, lo pegamos debajo"
   ]
  },
  {
   "cell_type": "code",
   "execution_count": null,
   "metadata": {},
   "outputs": [],
   "source": [
    "iam_permission_policy_for_s3_arnB = \"Aqui\""
   ]
  },
  {
   "cell_type": "markdown",
   "metadata": {},
   "source": [
    "Lo adjuntamos a nuestro rol"
   ]
  },
  {
   "cell_type": "code",
   "execution_count": null,
   "metadata": {},
   "outputs": [],
   "source": [
    "!aws --profile $perfilB iam attach-role-policy --role-name $rolB1 --policy-arn $iam_permission_policy_for_s3_arnB"
   ]
  },
  {
   "cell_type": "markdown",
   "metadata": {},
   "source": [
    "Finalmente, intentamos acceder al balde"
   ]
  },
  {
   "cell_type": "code",
   "execution_count": null,
   "metadata": {},
   "outputs": [],
   "source": [
    "!awsas --profile $perfilB $rolB1 s3 ls s3://$mybucket1"
   ]
  },
  {
   "cell_type": "markdown",
   "metadata": {},
   "source": [
    "Esperar\n",
    "\n",
    "An error occurred (AccessDenied) when calling the ListObjects operation: Access Denied\n",
    "\n",
    "Ya que el rolB1 se encuentra en una cuenta diferente que mybucket1, tanto la politica del recurso como la politica de permiso de IAM deben explicitamente otorgar acceso."
   ]
  },
  {
   "cell_type": "markdown",
   "metadata": {},
   "source": [
    "#### Ahora, probemos con mybucket2 en accountA, luego de adjuntar una politica de acceso entre cuentas."
   ]
  },
  {
   "cell_type": "markdown",
   "metadata": {},
   "source": [
    "Primero, creamos  la politica"
   ]
  },
  {
   "cell_type": "code",
   "execution_count": null,
   "metadata": {},
   "outputs": [],
   "source": [
    "# mybucket2_policy.json\n",
    "mybucket2_policy = {\n",
    "    \"Version\": \"2012-10-17\",\n",
    "    \"Statement\": [\n",
    "        {\n",
    "            \"Action\": [\n",
    "                \"s3:PutObject\",\n",
    "                \"s3:GetObject\",\n",
    "                \"s3:ListBucket\"\n",
    "            ],\n",
    "            \"Effect\": \"Allow\",\n",
    "            \"Principal\": {\n",
    "                \"AWS\": [\n",
    "                    \"arn:aws:iam::{}:root\".format(accountB),\n",
    "                    \"arn:aws:iam::{}:role/aws-labs/{}\".format(accountB,roleB2)\n",
    "                ]\n",
    "            },\n",
    "            \"Resource\": [\n",
    "                \"arn:aws:s3:::{}/*\".format(mybucket2),\n",
    "                \"arn:aws:s3:::{}\".format(mybucket2)\n",
    "            ],\n",
    "            \"Sid\": \"BucketPolicyForS3MyBucket2\"\n",
    "        }\n",
    "    ]\n",
    "    \n",
    "}\n",
    "mybucket2_policy_str = \"'\"+json.dumps(mybucket2_policy)+\"'\""
   ]
  },
  {
   "cell_type": "markdown",
   "metadata": {},
   "source": [
    "Luego la ponemos en el balde"
   ]
  },
  {
   "cell_type": "code",
   "execution_count": null,
   "metadata": {},
   "outputs": [],
   "source": [
    "!aws --profile $perfilA s3api put-bucket-policy --bucket $mybucket2 --policy $mybucket2_policy_str"
   ]
  },
  {
   "cell_type": "markdown",
   "metadata": {},
   "source": [
    "Y luego intentar listar sus contenidos desde el rolB1"
   ]
  },
  {
   "cell_type": "code",
   "execution_count": null,
   "metadata": {},
   "outputs": [],
   "source": [
    "!awsas --profile $perfilB $rolB1 s3 ls s3://$mybucket2"
   ]
  },
  {
   "cell_type": "markdown",
   "metadata": {},
   "source": [
    "Esperar exito. Esto funciona porque mybucket1 confia en el root de accountB, lo que significa que confia en el administrador de accountB para asignar permisos de S3, INCLUYENDO el acceso a cuentas externas.\n",
    "\n",
    "Que pasa con el rolB2 entonces? No hemos adjuntado una politica de permisos aun, pero esta explicitamente autorizado en la politica de recurso de mybucket2."
   ]
  },
  {
   "cell_type": "code",
   "execution_count": null,
   "metadata": {},
   "outputs": [],
   "source": [
    "!awsas --profile $perfilB $rolB2 s3 ls s3://$mybucket2"
   ]
  },
  {
   "cell_type": "markdown",
   "metadata": {},
   "source": [
    "Esperar AccessDenied. Sorpresa! Este resultado no es consistente con el resultado que se obtiene cuando el rol y el balde de S3 estan en la misma cuenta. Para acceso entre cuentas, incluso cuando el balde de S3 explicitamente autoriza a otra cuenta, el rol tambien debe tener los permisos adjuntos."
   ]
  },
  {
   "cell_type": "markdown",
   "metadata": {},
   "source": [
    "### Conclusion\n",
    "\n",
    "No pudimos acceder a un balde en otra cuenta sin un permiso explicito dentro de la politica de recurso del balde Y de la politica de permisos de IAM. Eso esta perfectamente bien, ya que si nos dejara, podriamos acceder a cualquier balde en cualquier cuenta, solo sabiendo el nombre del mismo."
   ]
  },
  {
   "cell_type": "markdown",
   "metadata": {},
   "source": [
    "# 5. Cuidado con las politicas condicionales"
   ]
  },
  {
   "cell_type": "markdown",
   "metadata": {},
   "source": [
    "Reemplacemos la politica existente de mybucket2 con la politica siguiente. Añade un bloque condicional para solo permitir acceso a ciertas IPs."
   ]
  },
  {
   "cell_type": "code",
   "execution_count": null,
   "metadata": {},
   "outputs": [],
   "source": [
    "# mybucket2_conditional_policy.json\n",
    "mybucket2_conditional_policy = {\n",
    "  \"Version\":\"2012-10-17\",\n",
    "  \"Statement\":[\n",
    "    {\n",
    "      \"Sid\":\"AddCrossAccountPutPolicy\",\n",
    "      \"Effect\":\"Allow\",\n",
    "      \"Principal\": {\"AWS\": [\"arn:aws:iam::{}:root\".format(accountB)]},\n",
    "      \"Action\":[\"s3:PutObject\",\"s3:GetObject\",\"s3:ListBucket\"],\n",
    "      \"Resource\":[\"arn:aws:s3:::{}/*\".format(mybucket2), \"arn:aws:s3:::{}\".format(mybucket2)],\n",
    "      \"Condition\": {\n",
    "        \"IpAddress\": {\n",
    "          \"aws:SourceIp\": [\n",
    "            \"54.240.144.0/32\",\n",
    "            \"54.240.144.0/24\"\n",
    "          ]\n",
    "        }\n",
    "        }\n",
    "      }\n",
    "    ]\n",
    "}\n",
    "mybucket2_conditional_policy_str = \"'\"+json.dumps(mybucket2_conditional_policy)+\"'\""
   ]
  },
  {
   "cell_type": "code",
   "execution_count": null,
   "metadata": {},
   "outputs": [],
   "source": [
    "!aws --profile $perfilA s3api put-bucket-policy --bucket $mybucket2 --policy $mybucket2_conditional_policy_str"
   ]
  },
  {
   "cell_type": "markdown",
   "metadata": {},
   "source": [
    "#### Pregunta:\n",
    "* Podemos listar items del balde desde IPs no permitidas?"
   ]
  },
  {
   "cell_type": "markdown",
   "metadata": {},
   "source": [
    "Primero, intentemos acceder al balde desde el rolB1, que, como sabemos, podia acceder antes."
   ]
  },
  {
   "cell_type": "code",
   "execution_count": null,
   "metadata": {},
   "outputs": [],
   "source": [
    "!awsas --profile $perfilB $rolB1 s3 ls s3://$mybucket2"
   ]
  },
  {
   "cell_type": "markdown",
   "metadata": {},
   "source": [
    "Ahora ya no podemos acceder, porque nuestra IP no esta en la lista de permitidos. \n",
    "\n",
    "Que pasa con el rolA1?"
   ]
  },
  {
   "cell_type": "code",
   "execution_count": null,
   "metadata": {},
   "outputs": [],
   "source": [
    "!awsas --profile $perfilA $rolA1 s3 ls s3://$mybucket2"
   ]
  },
  {
   "cell_type": "markdown",
   "metadata": {},
   "source": [
    "### Conclusion\n",
    "El rolA1 puede acceder al balde porque su politica de permisos de IAM no esta restringida, y la decision se basa en la union de lo que esta politica permite (si), y lo que la politica del balde permite (no). En cambio, para el rolB1, la politica de IAM (si), intersecta con la politica de recurso (no), llevando a una negacion de acceso."
   ]
  },
  {
   "cell_type": "markdown",
   "metadata": {},
   "source": [
    "# 6. La necesidad de declaraciones explicitas de negación"
   ]
  },
  {
   "cell_type": "markdown",
   "metadata": {},
   "source": [
    "Y si quisieramos solo permitir que rolA1 acceda a mybucket2? Podrias intentar aplicar roles granulares a todos los principals en accountA, para nunca otorgar acceso a un recurso * para operaciones de S3 a ningun principal, pero esto es dificil de hacer cumplir. Una mejor forma es aplicar un Deny explicito a todos los principals excepto rolA1 en la politica de recurso del balde.\n",
    "\n",
    "Para eso, necesitamos una nueva politica en mybucket2, la cual crearemos a continuación"
   ]
  },
  {
   "cell_type": "code",
   "execution_count": null,
   "metadata": {},
   "outputs": [],
   "source": [
    "mybucket2_deny_policy = {\n",
    "    \"Version\": \"2012-10-17\",\n",
    "    \"Statement\": [\n",
    "      {\n",
    "        \"Sid\": \"ExplicitDenyBucketPolicyForAllBut\",\n",
    "        \"Effect\": \"Deny\",\n",
    "        \"Principal\": {\n",
    "          \"AWS\": [\"arn:aws:iam::{}:role/aws-labs/{}\".format(accountB,roleB2),\n",
    "                  \"arn:aws:iam::{}:role/aws-labs/{}\".format(accountA,roleA2)]\n",
    "         },\n",
    "        \"Action\": [\"s3:PutObject\", \"s3:GetObject\", \"s3:ListBucket\"],\n",
    "        \"Resource\": [ \"arn:aws:s3:::{}/*\".format(mybucket2),\n",
    "                      \"arn:aws:s3:::{}\".format(mybucket2)\n",
    "        ],\n",
    "        \"Condition\": {\"ArnNotLike\": {\n",
    "              \"aws:SourceArn\": [\"arn:aws:iam::{}:role/aws-labs/{}\".format(accountA,roleA2),\n",
    "                                \"arn:aws:iam::{}:role/aws-labs/{}\".format(accountB,roleB2)]}\n",
    "        }\n",
    "      },\n",
    "      {\n",
    "        \"Sid\": \"AllowCrossAccountForS3MyBucket2\",\n",
    "        \"Effect\": \"Allow\",\n",
    "        \"Principal\": {\n",
    "          \"AWS\": [\"arn:aws:iam::{}:role/aws-labs/{}\".format(accountB,roleB1)]\n",
    "         },\n",
    "        \"Action\": [\"s3:PutObject\", \"s3:GetObject\", \"s3:ListBucket\"],\n",
    "        \"Resource\": [ \"arn:aws:s3:::{}/*\".format(mybucket2),\n",
    "                      \"arn:aws:s3:::{}\".format(mybucket2)\n",
    "        ]\n",
    "      }\n",
    "    ]\n",
    "  }\n",
    "mybucket2_deny_policy_str = \"'\"+json.dumps(mybucket2_deny_policy)+\"'\""
   ]
  },
  {
   "cell_type": "markdown",
   "metadata": {},
   "source": [
    "Luego, la pondremos en el balde, reemplazando la politica anterior"
   ]
  },
  {
   "cell_type": "code",
   "execution_count": null,
   "metadata": {},
   "outputs": [],
   "source": [
    "!aws --profile $perfilA s3api put-bucket-policy --bucket $mybucket2 --policy $mybucket2_deny_policy_str"
   ]
  },
  {
   "cell_type": "markdown",
   "metadata": {},
   "source": [
    "Ahora, intentemos leer los contenidos del balde desde el rolA1"
   ]
  },
  {
   "cell_type": "code",
   "execution_count": null,
   "metadata": {},
   "outputs": [],
   "source": [
    "!awsas --profile $perfilA $rolA1 s3 ls s3://$mybucket2"
   ]
  },
  {
   "cell_type": "markdown",
   "metadata": {},
   "source": [
    "Genial! Nuestra politica nos permite hacer eso. Ahora, intentemos desde el rolA2"
   ]
  },
  {
   "cell_type": "code",
   "execution_count": null,
   "metadata": {},
   "outputs": [],
   "source": [
    "!awsas --profile $perfilA $rolA2 s3 ls s3://$mybucket2"
   ]
  },
  {
   "cell_type": "markdown",
   "metadata": {},
   "source": [
    "Por ahora, todo bien. Solo el rolA1 puede acceder. Ahora, notas la segunda declaracion en la politica? Permite que rolB1 desde accountB pueda acceder a nuestro balde. Si esa declaracion es borrada, entonces solo rolA1 podra acceder. Intentemos acceder al balde desde rolB1 para ver si funciona."
   ]
  },
  {
   "cell_type": "code",
   "execution_count": null,
   "metadata": {},
   "outputs": [],
   "source": [
    "!awsas --profile $perfilB $rolB1 s3 ls s3://$mybucket2"
   ]
  },
  {
   "cell_type": "markdown",
   "metadata": {},
   "source": [
    "Solo por si acaso, intentemos acceder desde rolB2"
   ]
  },
  {
   "cell_type": "code",
   "execution_count": null,
   "metadata": {},
   "outputs": [],
   "source": [
    "!awsas --profile $perfilB $rolB2 s3 ls s3://$mybucket2"
   ]
  },
  {
   "cell_type": "markdown",
   "metadata": {},
   "source": [
    "No nos deja, como planeamos"
   ]
  },
  {
   "cell_type": "markdown",
   "metadata": {},
   "source": [
    "### Conclusion\n",
    "Si lo necesitaramos, podemos crear una politica de balde que niega el acceso a todos los principals, excepto el que nosotros queramos, lo cual es bueno para escalabilidad y buenas practicas de seguridad"
   ]
  },
  {
   "cell_type": "markdown",
   "metadata": {},
   "source": [
    "# Felicitaciones!\n",
    "Has completado el Lab2\n",
    "\n",
    "Resumiremos los resultados de la siguiente manera:\n",
    "* Cuando un rol y un recurso estan en la misma cuenta, el acceso es otorgado si el rol o el recurso lo permiten. Esto se llama unión.\n",
    "* Cuando un rol y un recurso se encuentran en diferentes cuentas, el permiso de acceso debe ser otorgado tanto por el rol como por el recurso. Esto se llama intersección."
   ]
  },
  {
   "cell_type": "markdown",
   "metadata": {},
   "source": [
    "Ejecuta la celda a continuacion para borrar todo desde ambas cuentas, para mantenerlas lo mas limpias posible, siguiendo buenas practicas de seguridad.\n",
    "\n",
    "Precaucion: el comando s3 rb borrará todos los contenidos de ambos baldes, y luego los eliminará."
   ]
  },
  {
   "cell_type": "code",
   "execution_count": null,
   "metadata": {},
   "outputs": [],
   "source": [
    "!aws --profile $perfilA iam detach-role-policy --role-name $rolA1 --policy-arn $iam_permission_policy_for_s3_arn\n",
    "!aws --profile $perfilB iam detach-role-policy --role-name $rolB1 --policy-arn $iam_permission_policy_for_s3_arnB\n",
    "!aws --profile $perfilA iam delete-policy --policy-arn $iam_permission_policy_for_s3_arn\n",
    "!aws --profile $perfilB iam delete-policy --policy-arn $iam_permission_policy_for_s3_arnB\n",
    "!aws --profile $perfilA iam delete-role --role-name $rolA1\n",
    "!aws --profile $perfilB iam delete-role --role-name $rolB1\n",
    "!aws --profile $perfilA iam delete-role --role-name $rolA2\n",
    "!aws --profile $perfilB iam delete-role --role-name $rolB2\n",
    "!aws --profile $perfilA s3 rb s3://$mybucket1 --force\n",
    "!aws --profile $perfilA s3 rb s3://$mybucket2 --force"
   ]
  }
 ],
 "metadata": {
  "kernelspec": {
   "display_name": "Python 3",
   "language": "python",
   "name": "python3"
  },
  "language_info": {
   "codemirror_mode": {
    "name": "ipython",
    "version": 3
   },
   "file_extension": ".py",
   "mimetype": "text/x-python",
   "name": "python",
   "nbconvert_exporter": "python",
   "pygments_lexer": "ipython3",
   "version": "3.7.6"
  }
 },
 "nbformat": 4,
 "nbformat_minor": 4
}
