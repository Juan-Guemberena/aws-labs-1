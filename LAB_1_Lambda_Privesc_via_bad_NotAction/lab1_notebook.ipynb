{
 "cells": [
  {
   "cell_type": "code",
   "execution_count": 1,
   "metadata": {},
   "outputs": [
    {
     "name": "stdout",
     "output_type": "stream",
     "text": [
      "\u001b[0m\u001b[01;34mAnswers\u001b[0m/             lambda_assume_policy_doc.json\r\n",
      "bucket_hint.txt      lambda_permissions_policy_doc.json\r\n",
      "\u001b[01;32mcreate_group.sh\u001b[0m*     power_user_marketing.json\r\n",
      "\u001b[01;32mdelete.sh\u001b[0m*           power_user_marketing_not_action_policy_doc.json\r\n",
      "flag                 Readme.md\r\n",
      "kingme.py            \u001b[01;32mrecon.sh\u001b[0m*\r\n",
      "\u001b[01;32mkingme.sh\u001b[0m*           sample-env.sh\r\n",
      "lab1_notebook.ipynb  \u001b[01;32msetup.sh\u001b[0m*\r\n"
     ]
    }
   ],
   "source": [
    "ls"
   ]
  },
  {
   "cell_type": "code",
   "execution_count": null,
   "metadata": {},
   "outputs": [],
   "source": [
    "# %load Readme.md\n",
    "# LAB_1_Lambda_Privesc_via_bad_NotAction\n",
    "\n",
    "This lab covers the following scenario:\n",
    "\n",
    "* An attacker discovers user credentials for marketing-dave which allows lambda management.\n",
    "* Due to a flaw in the policy intended to restrict marketing-dave's ability to modify IAM privileges, the attacker can priv-esc to admin by launching a lambda with high privileges.\n",
    "* The attacker discovers a secret in an S3 bucket after granting themselves S3 privileges to modify bucket policies\n",
    "\n",
    "## Part I: Diagnosing and Exploiting the Problem\n",
    "\n",
    "This lab examines a real-word issue discovered on a cloud pen test.\n",
    "Devops had wanted to restrict the marketing team from privilege escalation by disallowing `iam:*` actions.\n",
    "\n",
    "The policy they used was as follows:\n",
    "\n",
    "        {\n",
    "            \"Arn\": \"arn:aws:iam::111111111111:group/PowerUsers-marketing-group\",\n",
    "            \"AttachedManagedPolicies\": [\n",
    "                {\n",
    "                    \"PolicyArn\": \"arn:aws:iam::aws:policy/AWSLambdaFullAccess\",\n",
    "                    \"PolicyName\": \"AWSLambdaFullAccess\"\n",
    "                }\n",
    "            ],\n",
    "            \"CreateDate\": \"2012-12-20T16:20:10+00:00\",\n",
    "            \"GroupId\": \"AGPAJNZACMXXXXXXXXXX\",\n",
    "            \"GroupName\": \"owerUsers-marketing-group\",\n",
    "            \"GroupPolicyList\": [\n",
    "                {\n",
    "                    \"PolicyDocument\": {\n",
    "                        \"Statement\": [\n",
    "                            {\n",
    "                                \"Effect\": \"Allow\",\n",
    "                                \"NotAction\": \"iam:*\",\n",
    "                                \"Resource\": \"*\"\n",
    "                            }\n",
    "                        ]\n",
    "                    },\n",
    "                    \"PolicyName\": \"PowerUserAccess-marketing-2012122000000\"\n",
    "                }\n",
    "            ],\n",
    "            \"Path\": \"/\"\n",
    "        }\n",
    "\n",
    "Notice the NotAction in the PolicyDocument. \n",
    "* What is this trying to do? \n",
    "* What does it actually do?\n",
    "\n",
    "See the answer in [Answers/Readme_Theory.md](Answers/Readme_Theory.md)\n",
    "\n",
    "\n",
    "We will explore this with a scenario where an attacker has obtained the credentials to a user `marketing-dave`.\n",
    "who is part of the PowerUsers-marketing-group. We will demonstrate how the policy above can be abused to\n",
    "create a lambda function with a high-privileged role to elevate dave's own privileges.\n",
    "\n",
    "\n",
    "1. Using admin creds, Create the roles and policies to simulate discovered high-privilege .\n",
    "\n",
    "    ./setup.sh"
   ]
  },
  {
   "cell_type": "code",
   "execution_count": 11,
   "metadata": {},
   "outputs": [
    {
     "name": "stdout",
     "output_type": "stream",
     "text": [
      "total 24K\r\n",
      "drwxr-xr-x 6 root root  192 Jan 13 15:44 \u001b[0m\u001b[01;34m.\u001b[0m/\r\n",
      "drwx------ 1 root root 4.0K Apr 14 14:02 \u001b[01;34m..\u001b[0m/\r\n",
      "-rw------- 1 root root 1.1K Jan 19 13:47 config\r\n",
      "-rw------- 1 root root  12K Apr 12 17:11 credentials\r\n",
      "-rw-r--r-- 1 root root 1.0K Jan 13 15:44 .credentials.swp\r\n",
      "drwxr-xr-x 3 root root   96 Jan  8 21:49 \u001b[01;34msso\u001b[0m/\r\n"
     ]
    }
   ],
   "source": [
    "ls -alh /root/.aws"
   ]
  },
  {
   "cell_type": "code",
   "execution_count": 12,
   "metadata": {},
   "outputs": [
    {
     "name": "stdout",
     "output_type": "stream",
     "text": [
      "root\r\n"
     ]
    }
   ],
   "source": [
    "!whoami"
   ]
  },
  {
   "cell_type": "code",
   "execution_count": null,
   "metadata": {},
   "outputs": [],
   "source": []
  },
  {
   "cell_type": "code",
   "execution_count": 9,
   "metadata": {},
   "outputs": [
    {
     "name": "stdout",
     "output_type": "stream",
     "text": [
      "\n",
      "\t\tWARNING: This script creates a user with prefix marketing-dave, which is insecure, for demonstration purposes.\n",
      "\t\tBe sure to delete everything afterwards by running the delete.sh script\n",
      "\n",
      "Unable to locate credentials. You can configure credentials by running \"aws configure\".\n",
      "Could not get AWS_ACCOUNT_ID. Check your creds with aws sts get-caller-identity\n"
     ]
    }
   ],
   "source": [
    "! ./setup.sh"
   ]
  },
  {
   "cell_type": "code",
   "execution_count": null,
   "metadata": {},
   "outputs": [],
   "source": [
    "2. Perform reconnaissance. Run with --admin if you want to simulate discovering high-privilege creds (capable of IAM introspection).\n",
    "   More often, you won't be able to list the discocered credentials IAM privileges, but you can run enumerate-iam.py linked in the script.\n",
    "   ./recon.sh [--amin]"
   ]
  },
  {
   "cell_type": "code",
   "execution_count": null,
   "metadata": {},
   "outputs": [],
   "source": [
    "# %load recon.sh\n",
    "set -x\n",
    "\n",
    "source env.sh\n",
    "\n",
    "echo \"If you are not familiar with inline vs managed policies see https://docs.aws.amazon.com/IAM/latest/UserGuide/access_policies_managed-vs-inline.html\"\n",
    "\n",
    "if [ -z $1 ]; then\n",
    "  echo \"using low privilege keys found in keys.json\"\n",
    "  export AWS_ACCESS_KEY_ID=`cat keys.json | jq -r '.AccessKey.AccessKeyId'`\n",
    "  export AWS_SECRET_ACCESS_KEY=`cat keys.json | jq -r '.AccessKey.SecretAccessKey'`\n",
    "  echo \"----------------- The following fail because our discovered user has limited IAM permissions --------------------\"\n",
    "else\n",
    "  echo \"Using high privilege keys\"\n",
    "fi\n",
    "\n",
    "echo \"Determine the identity of the discovered credentials\""
   ]
  },
  {
   "cell_type": "code",
   "execution_count": 7,
   "metadata": {},
   "outputs": [
    {
     "name": "stdout",
     "output_type": "stream",
     "text": [
      "Unable to locate credentials. You can configure credentials by running \"aws configure\".\r\n"
     ]
    }
   ],
   "source": [
    "!aws sts get-caller-identity"
   ]
  },
  {
   "cell_type": "code",
   "execution_count": null,
   "metadata": {},
   "outputs": [],
   "source": [
    "user_arn=`aws sts get-caller-identity | jq '.Arn'`\n",
    "user_name=`echo $user_arn | sed 's|\\\"||g' | cut -d '/' -f 2`\n",
    "\n",
    "echo \"See if any interesting inline policies are attached directly to the user.\"\n",
    "aws iam list-user-policies --user-name $USER_NAME\n",
    "\n",
    "echo \"No luck. Next see if any managed policies are attached to the user.\"\n",
    "aws iam list-attached-user-policies --user-name $USER_NAME\n",
    "\n",
    "echo \"Also, no luck. The user must be in a group which grants the privileges.\"\n",
    "aws iam list-groups-for-user --user-name $USER_NAME\n",
    "group_name=`aws iam list-groups-for-user --user-name $USER_NAME | jq '.Groups[0].GroupName'`\n",
    "\n",
    "echo \"First check for group inline policies\"\n",
    "aws iam list-group-policies --group-name group_name\n",
    "\n",
    "echo \"Still no luck! Now check for attached group policies\".\n",
    "aws iam list-attached-group-policies --group-name group_name\n",
    "\n",
    "echo \"At last! To see what permissions the policy has, use list-policy-versions (because managed policies can have many versions)\"\n",
    "echo \"Then use get-policy-version to get the permissions using the latest or default version\"\n",
    "\n",
    "printf \"\\n\\n------------------------- Automated recon with low-priv keys ---------------------------------\\n\\n\"\n",
    "\n",
    "echo \"Run enumerage-iam.py --access-key --secret-key    according to https://github.com/praetorian-code/enumerate-iam\"\n",
    "echo \"Skipping to the results which show that we have iam list-roles and iam lambda list-functions\"\n",
    "\n",
    "aws lambda list-functions --max-items 5 | jq '.Functions[].FunctionName'\n",
    "aws iam list-roles --max-items 5 \n",
    "\n",
    "# aws lambda list-functions | jq '.Functions[] | select(.FunctionName | test(\"kingme\"))'\n",
    "\n",
    "\n",
    "aws iam list-policy-versions --policy-arn arn:aws:iam::aws:policy/AWSLambdaFullAccess\n",
    "aws iam get-policy-version --policy-arn arn:aws:iam::aws:policy/AWSLambdaFullAccess --version-id v8\n",
    "\n",
    "echo \"Notice that the policy includes iam:PassRole and the Resource is '*'\"\n",
    "echo \"An experienced attacker will recognized that this is the Wildcard Passrole priv-esc to Admin.\"\n",
    "echo \"We have discovered two paths to privilege escalation.\"\n",
    "echo \"1. We can run arbitrary functions. If a lambda function has a high-privilege role attached and we can modify the code, we can gain any privilege in the attached role.\"\n",
    "echo \"2. Since our group allows Wildcard Passrole via the AWSLambdaFullAccess, we can create a lambda and attach any role that already exists.\""
   ]
  },
  {
   "cell_type": "code",
   "execution_count": null,
   "metadata": {},
   "outputs": [],
   "source": [
    "3. Using dave's credentials, create the lambda function using the `discovered_role_with_iam_privs` role.\n",
    "\n",
    "   ./kingme.sh\n",
    "\n",
    "4. Once you are king (IAM boss), you can give yourself S3 Full Access privileges. Then you can list buckets.\n",
    "You will need to [change the bucket IAM policy](https://aws.amazon.com/blogs/security/how-to-restrict-amazon-s3-bucket-access-to-a-specific-iam-role/) \n",
    "to grant yourself access to the bucket.\n",
    "\n",
    "\n",
    "\n",
    "## Part II: Fixing the Problem (WIP)\n",
    "\n",
    "Now comes the hard part. How do we accomplish what the Devops team had intended? Allow the marketing power users as\n",
    "much freedom as possible (at least as much control over Lambda as possible) without giving them a path to privilege escalate to Admin?\n",
    "\n",
    "### Options\n",
    "\n",
    "* Permissions Boundary\n",
    "* Explicit Deny\n",
    "* Whitelist Passrole Resources\n",
    "* Separate AWS account where marketing is admin + CI/CD to publish into existing account\n",
    "\n",
    "\n",
    "\n",
    "## TODO\n",
    "- [x] Add cleanup instrutions.\n",
    "- [x] Replace all hard-coded random sequences with $RANDOM or similar. \n",
    "- [] Change the group privileges to only allow assume-role and push all privs into that group role, following best practices.\n",
    "- [] Design a version of the Lab so that the priv-esc is only to read a CTF hash in S3, not become admin.\n",
    "- [] Develop the \"How to Fix\" options."
   ]
  },
  {
   "cell_type": "code",
   "execution_count": null,
   "metadata": {},
   "outputs": [],
   "source": [
    "./setup.sh"
   ]
  },
  {
   "cell_type": "code",
   "execution_count": null,
   "metadata": {},
   "outputs": [],
   "source": []
  }
 ],
 "metadata": {
  "kernelspec": {
   "display_name": "Python 3",
   "language": "python",
   "name": "python3"
  },
  "language_info": {
   "codemirror_mode": {
    "name": "ipython",
    "version": 3
   },
   "file_extension": ".py",
   "mimetype": "text/x-python",
   "name": "python",
   "nbconvert_exporter": "python",
   "pygments_lexer": "ipython3",
   "version": "3.7.6"
  }
 },
 "nbformat": 4,
 "nbformat_minor": 4
}
